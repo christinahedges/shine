{
 "cells": [
  {
   "cell_type": "code",
   "execution_count": 1,
   "metadata": {},
   "outputs": [
    {
     "name": "stderr",
     "output_type": "stream",
     "text": [
      "/Users/ch/miniconda3/lib/python3.6/site-packages/h5py/__init__.py:36: FutureWarning: Conversion of the second argument of issubdtype from `float` to `np.floating` is deprecated. In future, it will be treated as `np.float64 == np.dtype(float).type`.\n",
      "  from ._conv import register_converters as _register_converters\n"
     ]
    }
   ],
   "source": [
    "%load_ext autoreload\n",
    "%autoreload 2\n",
    "import matplotlib.pyplot as plt\n",
    "import astropy.units as u\n",
    "import lightkurve as lk\n",
    "import numpy as np\n",
    "import exoplanet as xo\n",
    "\n",
    "from shine import shine\n",
    "import theano.tensor as tt"
   ]
  },
  {
   "cell_type": "code",
   "execution_count": 2,
   "metadata": {},
   "outputs": [],
   "source": [
    "tpf = lk.search_targetpixelfile('Wasp-104').download()"
   ]
  },
  {
   "cell_type": "code",
   "execution_count": 3,
   "metadata": {},
   "outputs": [],
   "source": [
    "star = shine.Star(radius=0.94, mass=1.011, temperature=5450, \n",
    "                 radius_error=(-0.016, 0.016), mass_error=(-0.05, 0.05), temperature_error=(-130, 130))\n",
    "planet = shine.Planet(star, period=1.75540636, t0=2457935.0702321, rprs=0.121, albedo=0.1, inclination=83.6*u.deg.to(u.rad),\n",
    "                        period_error=(-0.01, 0.01), t0_error=(-0.01, 0.01), rprs_error=(-0.05,0.05), inclination_error=(-1, 1))"
   ]
  },
  {
   "cell_type": "code",
   "execution_count": null,
   "metadata": {},
   "outputs": [],
   "source": [
    "model = shine.Model(tpf, star, planet)"
   ]
  },
  {
   "cell_type": "code",
   "execution_count": null,
   "metadata": {},
   "outputs": [],
   "source": [
    "mean = xo.eval_in_model(model._model['mean'], model=model._model)\n",
    "motion = xo.eval_in_model(model._model['motion_model'], model=model._model)\n",
    "eb = xo.eval_in_model(model._model['eb_model'], model=model._model)\n",
    "gp_trend = xo.eval_in_model(model._model.gp.predict(np.asarray(model.lc.time, np.float64)), model=model._model)\n",
    "\n",
    "ax = (model.lc).plot(normalize=False)\n",
    "ax.plot(model.lc.time, eb +  gp_trend + motion, lw=0.5)\n",
    "ax.set_title(\"Initial State\")"
   ]
  },
  {
   "cell_type": "code",
   "execution_count": null,
   "metadata": {
    "scrolled": false
   },
   "outputs": [],
   "source": [
    "model.optimize()"
   ]
  },
  {
   "cell_type": "code",
   "execution_count": null,
   "metadata": {},
   "outputs": [],
   "source": [
    "eb = model.map_soln['eb_model']\n",
    "with model._model:\n",
    "    gp = xo.eval_in_model(model._model.gp.predict(np.asarray(model.lc.time, np.float64)), model.map_soln)\n",
    "motion_model = model.map_soln['motion_model']"
   ]
  },
  {
   "cell_type": "code",
   "execution_count": null,
   "metadata": {},
   "outputs": [],
   "source": [
    "ax = model.lc.plot()\n",
    "ax.set_title(\"Data\")\n",
    "\n",
    "ax = lk.LightCurve(model.lc.time, gp + motion_model + eb).plot()\n",
    "ax.set_title(\"Model\")"
   ]
  },
  {
   "cell_type": "code",
   "execution_count": null,
   "metadata": {},
   "outputs": [],
   "source": [
    "p, t0 = model.map_soln['period'], model.map_soln['t0']# + model.map_soln['period']/2\n",
    "\n",
    "resids = (model.lc - motion_model - gp - eb)\n",
    "ax = resids.fold(p, t0).scatter(normalize=False)\n",
    "ax.set_title('Folded Residuals')"
   ]
  },
  {
   "cell_type": "code",
   "execution_count": null,
   "metadata": {},
   "outputs": [],
   "source": [
    "planet.rprs, planet.rprs_error, model.map_soln['rprs']"
   ]
  },
  {
   "cell_type": "code",
   "execution_count": null,
   "metadata": {},
   "outputs": [],
   "source": [
    "p, t0 = model.map_soln['period'], model.map_soln['t0']# + model.map_soln['period']/2\n",
    "f = ((model.lc - motion_model - gp).fold(p, t0) - lk.LightCurve(model.lc.time, eb).fold(p, t0).flux)\n",
    "ax = f.scatter(normalize=False)\n",
    "ff = ((model.lc - motion_model - gp).fold(p, t0) - lk.LightCurve(model.lc.time, eb).fold(p, t0).flux).flux\n",
    "bad = np.abs(ff - np.median(ff)) > 3 * ff.std()\n",
    "\n",
    "f[bad].scatter(c='r', normalize=False, ax=ax)\n",
    "bad = np.in1d(model.lc.time, f.time_original[bad])\n",
    "ax = model.lc.plot(normalize=False)\n",
    "model.lc[bad].scatter(c='r', ax=ax, normalize=False)"
   ]
  },
  {
   "cell_type": "code",
   "execution_count": null,
   "metadata": {},
   "outputs": [],
   "source": [
    "p, t0 = model.map_soln['period'], model.map_soln['t0'] + model.map_soln['period']/2\n",
    "\n",
    "\n",
    "rlc = tpf.to_lightcurve()\n",
    "rlc.time += 2454833\n",
    "rlc.flatten(501).fold(p, t0).errorbar()\n",
    "plt.ylim(0.999, 1.001)\n",
    "\n",
    "\n",
    "\n",
    "#ax = (model.lc).plot(c='r')\n",
    "ax = (model.lc - motion_model - gp).fold(p, t0).errorbar()\n",
    "lk.LightCurve(model.lc.time, eb).fold(p, t0).plot(ax=ax, c='r')\n",
    "#mlc.plot(ax=ax, c='b')\n",
    "plt.ylim(0.999, 1.001)\n",
    "\n",
    "\n",
    "raw_lc = tpf.to_lightcurve()\n",
    "_, mask = raw_lc.flatten().remove_outliers(return_mask=True, sigma_lower=3)\n",
    "\n",
    "pld = tpf.to_corrector('pld')\n",
    "clc = pld.correct(cadence_mask=~mask, pld_order=2)\n",
    "clc.time += 2454833\n",
    "clc.flatten(501).fold(p, t0).errorbar()\n",
    "plt.ylim(0.999, 1.001)"
   ]
  },
  {
   "cell_type": "code",
   "execution_count": null,
   "metadata": {},
   "outputs": [],
   "source": [
    "model.map_soln['albedo']"
   ]
  },
  {
   "cell_type": "code",
   "execution_count": null,
   "metadata": {},
   "outputs": [],
   "source": [
    "pld.get_diagnostic_lightcurves()[1].plot(normalize=False)"
   ]
  },
  {
   "cell_type": "code",
   "execution_count": null,
   "metadata": {},
   "outputs": [],
   "source": [
    "pld.get_diagnostic_lightcurves()[2].plot(normalize=False)"
   ]
  },
  {
   "cell_type": "code",
   "execution_count": null,
   "metadata": {},
   "outputs": [],
   "source": []
  }
 ],
 "metadata": {
  "kernelspec": {
   "display_name": "Python 3",
   "language": "python",
   "name": "python3"
  },
  "language_info": {
   "codemirror_mode": {
    "name": "ipython",
    "version": 3
   },
   "file_extension": ".py",
   "mimetype": "text/x-python",
   "name": "python",
   "nbconvert_exporter": "python",
   "pygments_lexer": "ipython3",
   "version": "3.6.7"
  }
 },
 "nbformat": 4,
 "nbformat_minor": 2
}
